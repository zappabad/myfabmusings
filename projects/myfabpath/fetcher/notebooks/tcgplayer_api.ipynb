{
 "cells": [
  {
   "cell_type": "code",
   "execution_count": null,
   "metadata": {},
   "outputs": [
    {
     "name": "stdout",
     "output_type": "stream",
     "text": [
      "Lowest Price: 3.74\n",
      "Market Price: 4.51\n",
      "Lowest Price with Shipping: 3.74\n"
     ]
    }
   ],
   "source": [
    "from sys import path\n",
    "path.append(\"..\")\n",
    "\n",
    "from utils import TCGPlayerFetcher\n",
    "\n",
    "\n",
    "# Example usage\n",
    "fetcher = TCGPlayerFetcher(\"Endless Arrow\")\n",
    "fetcher.fetch_data()\n",
    "print(\"Lowest Price:\", fetcher.get_lowest_price())\n",
    "print(\"Market Price:\", fetcher.get_market_price())\n",
    "print(\"Lowest Price with Shipping:\", fetcher.get_lowest_price_with_shipping())"
   ]
  },
  {
   "cell_type": "code",
   "execution_count": 5,
   "metadata": {},
   "outputs": [
    {
     "data": {
      "text/html": [
       "<div>\n",
       "<style scoped>\n",
       "    .dataframe tbody tr th:only-of-type {\n",
       "        vertical-align: middle;\n",
       "    }\n",
       "\n",
       "    .dataframe tbody tr th {\n",
       "        vertical-align: top;\n",
       "    }\n",
       "\n",
       "    .dataframe thead th {\n",
       "        text-align: right;\n",
       "    }\n",
       "</style>\n",
       "<table border=\"1\" class=\"dataframe\">\n",
       "  <thead>\n",
       "    <tr style=\"text-align: right;\">\n",
       "      <th></th>\n",
       "      <th>productLineName</th>\n",
       "      <th>setName</th>\n",
       "      <th>productName</th>\n",
       "    </tr>\n",
       "  </thead>\n",
       "  <tbody>\n",
       "    <tr>\n",
       "      <th>0</th>\n",
       "      <td>Flesh and Blood TCG</td>\n",
       "      <td>Arcane Rising</td>\n",
       "      <td>Endless Arrow</td>\n",
       "    </tr>\n",
       "    <tr>\n",
       "      <th>1</th>\n",
       "      <td>Flesh and Blood TCG</td>\n",
       "      <td>History Pack Vol.1</td>\n",
       "      <td>Endless Arrow</td>\n",
       "    </tr>\n",
       "  </tbody>\n",
       "</table>\n",
       "</div>"
      ],
      "text/plain": [
       "       productLineName             setName    productName\n",
       "0  Flesh and Blood TCG       Arcane Rising  Endless Arrow\n",
       "1  Flesh and Blood TCG  History Pack Vol.1  Endless Arrow"
      ]
     },
     "execution_count": 5,
     "metadata": {},
     "output_type": "execute_result"
    }
   ],
   "source": [
    "df = fetcher.get_full_data()\n",
    "df[['productLineName',\n",
    "    'setName', 'productName']]\n"
   ]
  },
  {
   "cell_type": "code",
   "execution_count": null,
   "metadata": {},
   "outputs": [],
   "source": []
  }
 ],
 "metadata": {
  "kernelspec": {
   "display_name": ".venv",
   "language": "python",
   "name": "python3"
  },
  "language_info": {
   "codemirror_mode": {
    "name": "ipython",
    "version": 3
   },
   "file_extension": ".py",
   "mimetype": "text/x-python",
   "name": "python",
   "nbconvert_exporter": "python",
   "pygments_lexer": "ipython3",
   "version": "3.13.1"
  }
 },
 "nbformat": 4,
 "nbformat_minor": 2
}
