{
 "cells": [
  {
   "cell_type": "code",
   "execution_count": 1,
   "metadata": {},
   "outputs": [],
   "source": [
    "import requests\n",
    "from classes.card import Card\n",
    "\n",
    "# Card data from the-fab-cube\n",
    "url = \"https://raw.githubusercontent.com/the-fab-cube/flesh-and-blood-cards/develop/json/english/card.json\"\n",
    "\n",
    "card_data = requests.get(url).json()\n",
    "\n",
    "all_cards = []\n",
    "for card in card_data:\n",
    "    card_obj = Card(card)\n",
    "    all_cards.append(card_obj)"
   ]
  },
  {
   "cell_type": "code",
   "execution_count": 2,
   "metadata": {},
   "outputs": [],
   "source": [
    "from itertools import combinations\n",
    "\n",
    "def generate_card_combinations(cards, n):\n",
    "    \"\"\"\n",
    "    Generate all unique combinations of size n from the given list of cards.\n",
    "\n",
    "    Args:\n",
    "        cards (List[Card]): List of Card objects.\n",
    "        n (int): The size of each combination.\n",
    "\n",
    "    Returns:\n",
    "        List[Tuple[Card, ...]]: A list of tuples, each containing a combination of cards.\n",
    "    \"\"\"\n",
    "    return list(set(combinations(cards, n)))"
   ]
  },
  {
   "cell_type": "markdown",
   "metadata": {},
   "source": [
    "# Fai"
   ]
  },
  {
   "cell_type": "code",
   "execution_count": 6,
   "metadata": {},
   "outputs": [],
   "source": [
    "fai_deck_string = \"\"\"\n",
    "Deck built with ❤️ at the FaBrary\n",
    "\n",
    "World Championship: Barcelona 1st 🇬🇷 Copy\n",
    "\n",
    "Class: Ninja\n",
    "Hero: Fai, Rising Rebellion\n",
    "Weapons: Harmonized Kodachi,Harmonized Kodachi, Searing Emberblade\n",
    "Equipment: Flamescale Furnace, Fyendal's Spring Tunic, Mask of Momentum, Mask of the Pouncing Lynx, Snapdragon Scalers, Tide Flippers, Tiger Stripe Shuko\n",
    "\n",
    "(3) Ancestral Empowerment (red)\n",
    "(3) Bittering Thorns (red)\n",
    "(3) Blaze Headlong (red)\n",
    "(3) Brand with Cinderclaw (red)\n",
    "(3) Double Strike (red)\n",
    "(3) Enlightened Strike (red)\n",
    "(3) Lava Burst (red)\n",
    "(3) Mounting Anger (red)\n",
    "(3) Ravenous Rabble (red)\n",
    "(3) Rising Resentment (red)\n",
    "(3) Ronin Renegade (red)\n",
    "(3) Snatch (red)\n",
    "(3) Art of War (yellow)\n",
    "(3) Brand with Cinderclaw (yellow)\n",
    "(3) Salt the Wound (yellow)\n",
    "(3) Brand with Cinderclaw (blue)\n",
    "(3) Lava Vein Loyalty (blue)\n",
    "(3) Soulbead Strike (blue)\n",
    "(3) Stab Wound (blue)\n",
    "(2) Warmonger's Diplomacy (blue)\n",
    "\n",
    "\n",
    "See the full deck @ https://fabrary.net/decks/01HH37B8K3ZDXBGCT4R7YDGDFG\n",
    "\"\"\""
   ]
  },
  {
   "cell_type": "code",
   "execution_count": 7,
   "metadata": {},
   "outputs": [
    {
     "name": "stdout",
     "output_type": "stream",
     "text": [
      "Calculating permutations for hand size 0\n"
     ]
    },
    {
     "name": "stderr",
     "output_type": "stream",
     "text": [
      "1it [00:00, ?it/s]\n"
     ]
    },
    {
     "name": "stdout",
     "output_type": "stream",
     "text": [
      "Calculating permutations for hand size 1\n"
     ]
    },
    {
     "name": "stderr",
     "output_type": "stream",
     "text": [
      "59it [00:00, ?it/s]\n"
     ]
    },
    {
     "name": "stdout",
     "output_type": "stream",
     "text": [
      "Calculating permutations for hand size 2\n"
     ]
    },
    {
     "name": "stderr",
     "output_type": "stream",
     "text": [
      "1711it [00:00, 32903.06it/s]\n"
     ]
    },
    {
     "name": "stdout",
     "output_type": "stream",
     "text": [
      "Calculating permutations for hand size 3\n"
     ]
    },
    {
     "name": "stderr",
     "output_type": "stream",
     "text": [
      "32509it [00:00, 38976.45it/s]\n"
     ]
    },
    {
     "name": "stdout",
     "output_type": "stream",
     "text": [
      "Calculating permutations for hand size 4\n"
     ]
    },
    {
     "name": "stderr",
     "output_type": "stream",
     "text": [
      "455126it [00:11, 38212.99it/s]\n"
     ]
    }
   ],
   "source": [
    "from classes.deck import Deck\n",
    "\n",
    "fai_deck = Deck(fai_deck_string, all_cards)\n",
    "fai_full_handset = fai_deck.calculate_hands()\n",
    "fai_full_handset = fai_full_handset.filter(\"arsenal_is\", None).filter(\"has_n_cards\", 4)"
   ]
  },
  {
   "cell_type": "markdown",
   "metadata": {},
   "source": [
    "## Tests of aggregate"
   ]
  },
  {
   "cell_type": "code",
   "execution_count": 4,
   "metadata": {},
   "outputs": [
    {
     "data": {
      "text/html": [
       "<div>\n",
       "<style scoped>\n",
       "    .dataframe tbody tr th:only-of-type {\n",
       "        vertical-align: middle;\n",
       "    }\n",
       "\n",
       "    .dataframe tbody tr th {\n",
       "        vertical-align: top;\n",
       "    }\n",
       "\n",
       "    .dataframe thead th {\n",
       "        text-align: right;\n",
       "    }\n",
       "</style>\n",
       "<table border=\"1\" class=\"dataframe\">\n",
       "  <thead>\n",
       "    <tr style=\"text-align: right;\">\n",
       "      <th></th>\n",
       "      <th>Blue</th>\n",
       "      <th>Chain Starter</th>\n",
       "      <th>Lava Burst</th>\n",
       "      <th>Any Card</th>\n",
       "      <th>Hand Counts</th>\n",
       "      <th>Combinations</th>\n",
       "      <th>Percentage</th>\n",
       "    </tr>\n",
       "  </thead>\n",
       "  <tbody>\n",
       "    <tr>\n",
       "      <th>0</th>\n",
       "      <td>True</td>\n",
       "      <td>True</td>\n",
       "      <td>True</td>\n",
       "      <td>True</td>\n",
       "      <td>330</td>\n",
       "      <td>21672</td>\n",
       "      <td>3.74%</td>\n",
       "    </tr>\n",
       "    <tr>\n",
       "      <th>1</th>\n",
       "      <td>True</td>\n",
       "      <td>True</td>\n",
       "      <td>True</td>\n",
       "      <td>False</td>\n",
       "      <td>0</td>\n",
       "      <td>0</td>\n",
       "      <td>0.00%</td>\n",
       "    </tr>\n",
       "    <tr>\n",
       "      <th>2</th>\n",
       "      <td>True</td>\n",
       "      <td>True</td>\n",
       "      <td>False</td>\n",
       "      <td>True</td>\n",
       "      <td>2586</td>\n",
       "      <td>147014</td>\n",
       "      <td>29.33%</td>\n",
       "    </tr>\n",
       "    <tr>\n",
       "      <th>3</th>\n",
       "      <td>True</td>\n",
       "      <td>True</td>\n",
       "      <td>False</td>\n",
       "      <td>False</td>\n",
       "      <td>0</td>\n",
       "      <td>0</td>\n",
       "      <td>0.00%</td>\n",
       "    </tr>\n",
       "    <tr>\n",
       "      <th>4</th>\n",
       "      <td>True</td>\n",
       "      <td>False</td>\n",
       "      <td>True</td>\n",
       "      <td>True</td>\n",
       "      <td>529</td>\n",
       "      <td>29099</td>\n",
       "      <td>6.00%</td>\n",
       "    </tr>\n",
       "    <tr>\n",
       "      <th>5</th>\n",
       "      <td>True</td>\n",
       "      <td>False</td>\n",
       "      <td>True</td>\n",
       "      <td>False</td>\n",
       "      <td>0</td>\n",
       "      <td>0</td>\n",
       "      <td>0.00%</td>\n",
       "    </tr>\n",
       "    <tr>\n",
       "      <th>6</th>\n",
       "      <td>True</td>\n",
       "      <td>False</td>\n",
       "      <td>False</td>\n",
       "      <td>True</td>\n",
       "      <td>2326</td>\n",
       "      <td>108346</td>\n",
       "      <td>26.38%</td>\n",
       "    </tr>\n",
       "    <tr>\n",
       "      <th>7</th>\n",
       "      <td>True</td>\n",
       "      <td>False</td>\n",
       "      <td>False</td>\n",
       "      <td>False</td>\n",
       "      <td>0</td>\n",
       "      <td>0</td>\n",
       "      <td>0.00%</td>\n",
       "    </tr>\n",
       "    <tr>\n",
       "      <th>8</th>\n",
       "      <td>False</td>\n",
       "      <td>True</td>\n",
       "      <td>True</td>\n",
       "      <td>True</td>\n",
       "      <td>394</td>\n",
       "      <td>23550</td>\n",
       "      <td>4.47%</td>\n",
       "    </tr>\n",
       "    <tr>\n",
       "      <th>9</th>\n",
       "      <td>False</td>\n",
       "      <td>True</td>\n",
       "      <td>True</td>\n",
       "      <td>False</td>\n",
       "      <td>0</td>\n",
       "      <td>0</td>\n",
       "      <td>0.00%</td>\n",
       "    </tr>\n",
       "    <tr>\n",
       "      <th>10</th>\n",
       "      <td>False</td>\n",
       "      <td>True</td>\n",
       "      <td>False</td>\n",
       "      <td>True</td>\n",
       "      <td>1661</td>\n",
       "      <td>84525</td>\n",
       "      <td>18.84%</td>\n",
       "    </tr>\n",
       "    <tr>\n",
       "      <th>11</th>\n",
       "      <td>False</td>\n",
       "      <td>True</td>\n",
       "      <td>False</td>\n",
       "      <td>False</td>\n",
       "      <td>0</td>\n",
       "      <td>0</td>\n",
       "      <td>0.00%</td>\n",
       "    </tr>\n",
       "    <tr>\n",
       "      <th>12</th>\n",
       "      <td>False</td>\n",
       "      <td>False</td>\n",
       "      <td>True</td>\n",
       "      <td>True</td>\n",
       "      <td>285</td>\n",
       "      <td>13515</td>\n",
       "      <td>3.23%</td>\n",
       "    </tr>\n",
       "    <tr>\n",
       "      <th>13</th>\n",
       "      <td>False</td>\n",
       "      <td>False</td>\n",
       "      <td>True</td>\n",
       "      <td>False</td>\n",
       "      <td>0</td>\n",
       "      <td>0</td>\n",
       "      <td>0.00%</td>\n",
       "    </tr>\n",
       "    <tr>\n",
       "      <th>14</th>\n",
       "      <td>False</td>\n",
       "      <td>False</td>\n",
       "      <td>False</td>\n",
       "      <td>True</td>\n",
       "      <td>705</td>\n",
       "      <td>27405</td>\n",
       "      <td>8.00%</td>\n",
       "    </tr>\n",
       "    <tr>\n",
       "      <th>15</th>\n",
       "      <td>False</td>\n",
       "      <td>False</td>\n",
       "      <td>False</td>\n",
       "      <td>False</td>\n",
       "      <td>0</td>\n",
       "      <td>0</td>\n",
       "      <td>0.00%</td>\n",
       "    </tr>\n",
       "  </tbody>\n",
       "</table>\n",
       "</div>"
      ],
      "text/plain": [
       "     Blue Chain Starter Lava Burst Any Card Hand Counts Combinations  \\\n",
       "0    True          True       True     True         330        21672   \n",
       "1    True          True       True    False           0            0   \n",
       "2    True          True      False     True        2586       147014   \n",
       "3    True          True      False    False           0            0   \n",
       "4    True         False       True     True         529        29099   \n",
       "5    True         False       True    False           0            0   \n",
       "6    True         False      False     True        2326       108346   \n",
       "7    True         False      False    False           0            0   \n",
       "8   False          True       True     True         394        23550   \n",
       "9   False          True       True    False           0            0   \n",
       "10  False          True      False     True        1661        84525   \n",
       "11  False          True      False    False           0            0   \n",
       "12  False         False       True     True         285        13515   \n",
       "13  False         False       True    False           0            0   \n",
       "14  False         False      False     True         705        27405   \n",
       "15  False         False      False    False           0            0   \n",
       "\n",
       "   Percentage  \n",
       "0       3.74%  \n",
       "1       0.00%  \n",
       "2      29.33%  \n",
       "3       0.00%  \n",
       "4       6.00%  \n",
       "5       0.00%  \n",
       "6      26.38%  \n",
       "7       0.00%  \n",
       "8       4.47%  \n",
       "9       0.00%  \n",
       "10     18.84%  \n",
       "11      0.00%  \n",
       "12      3.23%  \n",
       "13      0.00%  \n",
       "14      8.00%  \n",
       "15      0.00%  "
      ]
     },
     "execution_count": 4,
     "metadata": {},
     "output_type": "execute_result"
    }
   ],
   "source": [
    "conditions = {}\n",
    "\n",
    "# Generate all blues\n",
    "blue_card = fai_deck.group_by(lambda card: card.pitch == 3)\n",
    "conditions[\"One Blue\"] = generate_card_combinations(blue_card, 1)\n",
    "conditions[\"Two Blues\"] = generate_card_combinations(blue_card, 2)\n",
    "conditions[\"Three Blues\"] = generate_card_combinations(blue_card, 3)\n",
    "\n",
    "\n",
    "# Generate draconic chain starter non-blue\n",
    "non_blue_draconic_chain_starter =  fai_deck.group_by(lambda card: (\"Attack\" in card.types\n",
    "                                                          and \"Draconic\" in card.types\n",
    "                                                          and card.cost == 0\n",
    "                                                          and \"Go again\" in card.functional_text_plain\n",
    "                                                          and card.pitch != 3\n",
    "                                                          )\n",
    "                                            )\n",
    "conditions[\"A 0-cost, non-Blue, draconic chain opener\"] = generate_card_combinations(non_blue_draconic_chain_starter, 1)\n",
    "conditions[\"Two 0-cost, non-Blue, draconic chain openers\"] = generate_card_combinations(non_blue_draconic_chain_starter, 2)\n",
    "\n",
    "non_blue_natural_go_again =  fai_deck.group_by(lambda card: (\"Attack\" in card.types\n",
    "                                                          and \"Go again\" in card.functional_text_plain\n",
    "                                                          and card.pitch != 3\n",
    "                                                          )\n",
    "                                            )\n",
    "conditions[\"A non-blue natural go again attack\"] = generate_card_combinations(non_blue_natural_go_again, 1)\n",
    "conditions[\"Two non-blue natural go again attacks\"] = generate_card_combinations(non_blue_natural_go_again, 2)\n",
    "\n",
    "non_blue_one_cost_go_again =  fai_deck.group_by(lambda card: (card.name == \"Mounting Anger\"\n",
    "                                                              or card.name == \"Bittering Thorns\")\n",
    "                                            )\n",
    "conditions[\"\"] = generate_card_combinations(non_blue_natural_go_again, 2)\n",
    "\n",
    "# Generate Lava Burst\n",
    "lava_burst = fai_deck.group_by(lambda card: card.name == \"Lava Burst\")\n",
    "a_lava_burst = generate_card_combinations(lava_burst, 1)\n",
    "\n",
    "#Generate block 3+\n",
    "any_card = fai_deck.cards\n",
    "any_card_at_all = generate_card_combinations(any_card, 1)\n",
    "\n",
    "\n",
    "# Specify condition test names\n",
    "conditions = {\"Blue\": a_blue,\n",
    "              \"Chain Starter\": a_chain_starter,\n",
    "              \"Lava Burst\": a_lava_burst,\n",
    "              \"Any Card\": any_card_at_all}\n",
    "\n",
    "fai_full_handset.analyze_card_list_combinations(conditions)"
   ]
  },
  {
   "cell_type": "markdown",
   "metadata": {},
   "source": [
    "## Rest of code"
   ]
  },
  {
   "cell_type": "code",
   "execution_count": 5,
   "metadata": {},
   "outputs": [
    {
     "data": {
      "text/plain": [
       "Handset object with 136 distinct hands, and 8208 hand combinations."
      ]
     },
     "execution_count": 5,
     "metadata": {},
     "output_type": "execute_result"
    }
   ],
   "source": [
    "from functions.generatehandset import generate_handsets\n",
    "\n",
    "lava_burst = fai_deck.group_by(lambda card: card.name == \"Lava Burst\")\n",
    "block_3_or_more = fai_deck.group_by(lambda card: card.defense >= 3)\n",
    "# any_card = fai_deck.cards\n",
    "blue_card = fai_deck.group_by(lambda card: card.pitch == 3)\n",
    "non_blue_draconic_chain_starter =  fai_deck.group_by(lambda card: (\"Attack\" in card.types\n",
    "                                                          and \"Draconic\" in card.types\n",
    "                                                          and card.cost == 0\n",
    "                                                          and \"Go again\" in card.functional_text_plain\n",
    "                                                          and card.pitch != 3\n",
    "                                                          )\n",
    "                                            )\n",
    "\n",
    "arsenal_options = None\n",
    "\n",
    "card_options_tuple = (lava_burst, block_3_or_more, blue_card, non_blue_draconic_chain_starter)\n",
    "lava_burst_handset_3_block = generate_handsets(fai_deck, card_options_tuple, arsenal_options)\n",
    "lava_burst_handset_3_block"
   ]
  },
  {
   "cell_type": "code",
   "execution_count": 6,
   "metadata": {},
   "outputs": [
    {
     "data": {
      "text/plain": [
       "Handset object with 8816 distinct hands, and 455126 hand combinations."
      ]
     },
     "execution_count": 6,
     "metadata": {},
     "output_type": "execute_result"
    }
   ],
   "source": [
    "any_card = fai_deck.cards\n",
    "card_options_tuple = (any_card, any_card, any_card, any_card)\n",
    "generate_handsets(fai_deck, card_options_tuple, None)"
   ]
  },
  {
   "cell_type": "code",
   "execution_count": 7,
   "metadata": {},
   "outputs": [
    {
     "data": {
      "text/plain": [
       "Handset object with 330 distinct hands, and 21672 hand combinations."
      ]
     },
     "execution_count": 7,
     "metadata": {},
     "output_type": "execute_result"
    }
   ],
   "source": [
    "lava_burst = fai_deck.group_by(lambda card: card.name == \"Lava Burst\")\n",
    "block_3_or_more = fai_deck.group_by(lambda card: card.defense >= 3)\n",
    "any_card = fai_deck.cards\n",
    "blue_card = fai_deck.group_by(lambda card: card.pitch == 3)\n",
    "non_blue_draconic_chain_starter =  fai_deck.group_by(lambda card: (\"Attack\" in card.types\n",
    "                                                          and \"Draconic\" in card.types\n",
    "                                                          and card.cost == 0\n",
    "                                                          and \"Go again\" in card.functional_text_plain\n",
    "                                                          and card.pitch != 3\n",
    "                                                          )\n",
    "                                            )\n",
    "\n",
    "arsenal_options = None\n",
    "\n",
    "card_options_tuple = (lava_burst, any_card, blue_card, non_blue_draconic_chain_starter)\n",
    "lava_burst_handset_any_4th = generate_handsets(fai_deck, card_options_tuple, arsenal_options)\n",
    "lava_burst_handset_any_4th"
   ]
  },
  {
   "cell_type": "code",
   "execution_count": 8,
   "metadata": {},
   "outputs": [
    {
     "data": {
      "text/plain": [
       "Handset object with 1538 distinct hands, and 87836 hand combinations."
      ]
     },
     "execution_count": 8,
     "metadata": {},
     "output_type": "execute_result"
    }
   ],
   "source": [
    "lava_burst = fai_deck.group_by(lambda card: card.name == \"Lava Burst\")\n",
    "any_card = fai_deck.cards\n",
    "\n",
    "arsenal_options = None\n",
    "\n",
    "card_options_tuple = (lava_burst, any_card, any_card, any_card)\n",
    "lava_burst_handset_any_cards = generate_handsets(fai_deck, card_options_tuple, arsenal_options)\n",
    "lava_burst_handset_any_cards"
   ]
  },
  {
   "cell_type": "code",
   "execution_count": 9,
   "metadata": {},
   "outputs": [],
   "source": [
    "fai_4_card_handset_no_arse = fai_full_handset.filter(\"has_n_cards\", 4).filter(\"arsenal_is\", None)\n"
   ]
  },
  {
   "cell_type": "code",
   "execution_count": 10,
   "metadata": {},
   "outputs": [
    {
     "data": {
      "text/plain": [
       "Handset object with 194 distinct hands, and 13464 hand combinations."
      ]
     },
     "execution_count": 10,
     "metadata": {},
     "output_type": "execute_result"
    }
   ],
   "source": [
    "lava_burst_handset_any_4th.difference(lava_burst_handset_3_block)"
   ]
  },
  {
   "cell_type": "markdown",
   "metadata": {},
   "source": [
    "## Aggregate tests"
   ]
  },
  {
   "cell_type": "code",
   "execution_count": 11,
   "metadata": {},
   "outputs": [
    {
     "data": {
      "text/plain": [
       "dict_keys([0, 1])"
      ]
     },
     "execution_count": 11,
     "metadata": {},
     "output_type": "execute_result"
    }
   ],
   "source": [
    "aggregated_data = lava_burst_handset_any_4th.aggregate([\n",
    "    lambda hand: any(card in blue_card for card in hand.hand),\n",
    "    lambda hand: any(card in non_blue_draconic_chain_starter for card in hand.hand)\n",
    "])\n",
    "aggregated_data.keys()"
   ]
  },
  {
   "cell_type": "markdown",
   "metadata": {},
   "source": [
    "# Bravo List Comparison"
   ]
  },
  {
   "cell_type": "code",
   "execution_count": 3,
   "metadata": {},
   "outputs": [],
   "source": [
    "bravo_string_1 = \"\"\"\n",
    "Deck built with ❤️ at the FaBrary\n",
    "\n",
    "$20k Invitational\n",
    "\n",
    "Class: Guardian\n",
    "Hero: Bravo, Showstopper\n",
    "Weapons: Anothos, Titan's Fist\n",
    "Equipment: Civic Steps, Crater Fist, Crown of Providence, Fyendal's Spring Tunic, Nullrune Boots, Steelbraid Buckler\n",
    "\n",
    "(2) Chokeslam (red)\n",
    "(3) Command and Conquer (red)\n",
    "(3) Crippling Crush (red)\n",
    "(3) Enlightened Strike (red)\n",
    "(2) Pummel (red)\n",
    "(3) Sink Below (red)\n",
    "(3) Spinal Crush (red)\n",
    "(3) Star Struck (yellow)\n",
    "(2) Boulder Drop (blue)\n",
    "(3) Buckling Blow (blue)\n",
    "(3) Chokeslam (blue)\n",
    "(3) Cranial Crush (blue)\n",
    "(3) Debilitate (blue)\n",
    "(3) Disable (blue)\n",
    "(3) Imposing Visage (blue)\n",
    "(3) Macho Grande (blue)\n",
    "(3) Rouse the Ancients (blue)\n",
    "(1) Show Time! (blue)\n",
    "(3) Tear Asunder (blue)\n",
    "(3) Thunder Quake (blue)\n",
    "(2) Unmovable (blue)\n",
    "(3) Warmonger's Diplomacy (blue)\n",
    "\n",
    "\n",
    "See the full deck @ https://fabrary.net/decks/01HGVPG2C92B6K08317CCNM8KD\n",
    "\"\"\"\n",
    "\n",
    "bravo_string_2 = \"\"\"\n",
    "Deck built with ❤️ at the FaBrary\n",
    "\n",
    "$20k Invitational\n",
    "\n",
    "Class: Guardian\n",
    "Hero: Bravo, Showstopper\n",
    "Weapons: Anothos, Titan's Fist\n",
    "Equipment: Civic Steps, Crater Fist, Crown of Providence, Fyendal's Spring Tunic, Nullrune Boots, Steelbraid Buckler\n",
    "\n",
    "(2) Chokeslam (red)\n",
    "(3) Command and Conquer (red)\n",
    "(3) Crippling Crush (red)\n",
    "(2) Enlightened Strike (red)\n",
    "(2) Pummel (red)\n",
    "(3) Sink Below (red)\n",
    "(3) Spinal Crush (red)\n",
    "(3) Star Struck (yellow)\n",
    "(2) Boulder Drop (blue)\n",
    "(3) Buckling Blow (blue)\n",
    "(3) Chokeslam (blue)\n",
    "(3) Cranial Crush (blue)\n",
    "(3) Debilitate (blue)\n",
    "(3) Disable (blue)\n",
    "(3) Imposing Visage (blue)\n",
    "(3) Macho Grande (blue)\n",
    "(3) Rouse the Ancients (blue)\n",
    "(2) Show Time! (blue)\n",
    "(3) Tear Asunder (blue)\n",
    "(3) Thunder Quake (blue)\n",
    "(2) Unmovable (blue)\n",
    "(3) Warmonger's Diplomacy (blue)\n",
    "\n",
    "\n",
    "See the full deck @ https://fabrary.net/decks/01HGVPG2C92B6K08317CCNM8KD\n",
    "\"\"\""
   ]
  },
  {
   "cell_type": "code",
   "execution_count": 9,
   "metadata": {},
   "outputs": [
    {
     "name": "stdout",
     "output_type": "stream",
     "text": [
      "Calculating permutations for hand size 0\n"
     ]
    },
    {
     "name": "stderr",
     "output_type": "stream",
     "text": [
      "1it [00:00, ?it/s]\n"
     ]
    },
    {
     "name": "stdout",
     "output_type": "stream",
     "text": [
      "Calculating permutations for hand size 1\n"
     ]
    },
    {
     "name": "stderr",
     "output_type": "stream",
     "text": [
      "60it [00:00, 7104.57it/s]\n"
     ]
    },
    {
     "name": "stdout",
     "output_type": "stream",
     "text": [
      "Calculating permutations for hand size 2\n"
     ]
    },
    {
     "name": "stderr",
     "output_type": "stream",
     "text": [
      "1770it [00:00, 31189.66it/s]\n"
     ]
    },
    {
     "name": "stdout",
     "output_type": "stream",
     "text": [
      "Calculating permutations for hand size 3\n"
     ]
    },
    {
     "name": "stderr",
     "output_type": "stream",
     "text": [
      "34220it [00:00, 34393.90it/s]\n"
     ]
    },
    {
     "name": "stdout",
     "output_type": "stream",
     "text": [
      "Calculating permutations for hand size 4\n"
     ]
    },
    {
     "name": "stderr",
     "output_type": "stream",
     "text": [
      "487635it [00:13, 36862.09it/s]\n"
     ]
    }
   ],
   "source": [
    "from classes.deck import Deck\n",
    "\n",
    "bravo_deck_1 = Deck(bravo_string_2, all_cards)\n",
    "bravo_1_handset = bravo_deck_1.calculate_hands()\n",
    "bravo_1_handset = bravo_1_handset.filter(\"has_n_cards\", 4).filter(\"arsenal_is\", None)\n",
    "\n",
    "# bravo_deck_2 = Deck(bravo_string_2, all_cards)\n",
    "# bravo_2_handset = bravo_deck_2.calculate_hands()\n",
    "# bravo_2_handset = bravo_2_handset.filter(\"has_n_cards\", 4).filter(\"arsenal_is\", None)"
   ]
  },
  {
   "cell_type": "code",
   "execution_count": 10,
   "metadata": {},
   "outputs": [
    {
     "name": "stderr",
     "output_type": "stream",
     "text": [
      "0it [00:00, ?it/s]"
     ]
    },
    {
     "name": "stderr",
     "output_type": "stream",
     "text": [
      "c:\\Python Projects\\Jupyter\\fun\\fabsim\\classes\\handset.py:201: FutureWarning: The behavior of DataFrame concatenation with empty or all-NA entries is deprecated. In a future version, this will no longer exclude empty or all-NA columns when determining the result dtypes. To retain the old behavior, exclude the relevant entries before the concat operation.\n",
      "  results = pd.concat([results, new_row], ignore_index=True)\n",
      "1024it [02:07,  8.05it/s]\n"
     ]
    },
    {
     "data": {
      "text/html": [
       "<div>\n",
       "<style scoped>\n",
       "    .dataframe tbody tr th:only-of-type {\n",
       "        vertical-align: middle;\n",
       "    }\n",
       "\n",
       "    .dataframe tbody tr th {\n",
       "        vertical-align: top;\n",
       "    }\n",
       "\n",
       "    .dataframe thead th {\n",
       "        text-align: right;\n",
       "    }\n",
       "</style>\n",
       "<table border=\"1\" class=\"dataframe\">\n",
       "  <thead>\n",
       "    <tr style=\"text-align: right;\">\n",
       "      <th></th>\n",
       "      <th>Chokey or Spinal</th>\n",
       "      <th>Crip or Star</th>\n",
       "      <th>Sink Below</th>\n",
       "      <th>CnC</th>\n",
       "      <th>Pummel</th>\n",
       "      <th>Estrike</th>\n",
       "      <th>A Blue</th>\n",
       "      <th>Two Blues</th>\n",
       "      <th>Three Blues</th>\n",
       "      <th>Four Blues</th>\n",
       "      <th>Hand Counts</th>\n",
       "      <th>Combinations</th>\n",
       "      <th>Percentage</th>\n",
       "      <th>Hands</th>\n",
       "    </tr>\n",
       "  </thead>\n",
       "  <tbody>\n",
       "    <tr>\n",
       "      <th>0</th>\n",
       "      <td>False</td>\n",
       "      <td>False</td>\n",
       "      <td>False</td>\n",
       "      <td>False</td>\n",
       "      <td>False</td>\n",
       "      <td>False</td>\n",
       "      <td>True</td>\n",
       "      <td>True</td>\n",
       "      <td>True</td>\n",
       "      <td>True</td>\n",
       "      <td>2327</td>\n",
       "      <td>82251</td>\n",
       "      <td>0.186130</td>\n",
       "      <td>((Macho Grande (3), Show Time! (3), Imposing V...</td>\n",
       "    </tr>\n",
       "    <tr>\n",
       "      <th>2</th>\n",
       "      <td>True</td>\n",
       "      <td>False</td>\n",
       "      <td>False</td>\n",
       "      <td>False</td>\n",
       "      <td>False</td>\n",
       "      <td>False</td>\n",
       "      <td>True</td>\n",
       "      <td>True</td>\n",
       "      <td>True</td>\n",
       "      <td>False</td>\n",
       "      <td>1114</td>\n",
       "      <td>45695</td>\n",
       "      <td>0.089106</td>\n",
       "      <td>((Spinal Crush (1), Rouse the Ancients (3), De...</td>\n",
       "    </tr>\n",
       "    <tr>\n",
       "      <th>1</th>\n",
       "      <td>False</td>\n",
       "      <td>True</td>\n",
       "      <td>False</td>\n",
       "      <td>False</td>\n",
       "      <td>False</td>\n",
       "      <td>False</td>\n",
       "      <td>True</td>\n",
       "      <td>True</td>\n",
       "      <td>True</td>\n",
       "      <td>False</td>\n",
       "      <td>1114</td>\n",
       "      <td>54834</td>\n",
       "      <td>0.089106</td>\n",
       "      <td>((Warmonger's Diplomacy (3), Buckling Blow (3)...</td>\n",
       "    </tr>\n",
       "    <tr>\n",
       "      <th>3</th>\n",
       "      <td>False</td>\n",
       "      <td>False</td>\n",
       "      <td>False</td>\n",
       "      <td>False</td>\n",
       "      <td>False</td>\n",
       "      <td>True</td>\n",
       "      <td>True</td>\n",
       "      <td>True</td>\n",
       "      <td>True</td>\n",
       "      <td>False</td>\n",
       "      <td>557</td>\n",
       "      <td>18278</td>\n",
       "      <td>0.044553</td>\n",
       "      <td>((Thunder Quake (3), Enlightened Strike (1), R...</td>\n",
       "    </tr>\n",
       "    <tr>\n",
       "      <th>4</th>\n",
       "      <td>False</td>\n",
       "      <td>False</td>\n",
       "      <td>True</td>\n",
       "      <td>False</td>\n",
       "      <td>False</td>\n",
       "      <td>False</td>\n",
       "      <td>True</td>\n",
       "      <td>True</td>\n",
       "      <td>True</td>\n",
       "      <td>False</td>\n",
       "      <td>557</td>\n",
       "      <td>27417</td>\n",
       "      <td>0.044553</td>\n",
       "      <td>((Macho Grande (3), Buckling Blow (3), Sink Be...</td>\n",
       "    </tr>\n",
       "    <tr>\n",
       "      <th>...</th>\n",
       "      <td>...</td>\n",
       "      <td>...</td>\n",
       "      <td>...</td>\n",
       "      <td>...</td>\n",
       "      <td>...</td>\n",
       "      <td>...</td>\n",
       "      <td>...</td>\n",
       "      <td>...</td>\n",
       "      <td>...</td>\n",
       "      <td>...</td>\n",
       "      <td>...</td>\n",
       "      <td>...</td>\n",
       "      <td>...</td>\n",
       "      <td>...</td>\n",
       "    </tr>\n",
       "    <tr>\n",
       "      <th>106</th>\n",
       "      <td>True</td>\n",
       "      <td>False</td>\n",
       "      <td>False</td>\n",
       "      <td>True</td>\n",
       "      <td>True</td>\n",
       "      <td>True</td>\n",
       "      <td>False</td>\n",
       "      <td>False</td>\n",
       "      <td>False</td>\n",
       "      <td>False</td>\n",
       "      <td>2</td>\n",
       "      <td>60</td>\n",
       "      <td>0.000160</td>\n",
       "      <td>((Spinal Crush (1), Enlightened Strike (1), Co...</td>\n",
       "    </tr>\n",
       "    <tr>\n",
       "      <th>105</th>\n",
       "      <td>True</td>\n",
       "      <td>False</td>\n",
       "      <td>True</td>\n",
       "      <td>True</td>\n",
       "      <td>True</td>\n",
       "      <td>False</td>\n",
       "      <td>False</td>\n",
       "      <td>False</td>\n",
       "      <td>False</td>\n",
       "      <td>False</td>\n",
       "      <td>2</td>\n",
       "      <td>90</td>\n",
       "      <td>0.000160</td>\n",
       "      <td>((Sink Below (1), Chokeslam (1), Command and C...</td>\n",
       "    </tr>\n",
       "    <tr>\n",
       "      <th>104</th>\n",
       "      <td>False</td>\n",
       "      <td>True</td>\n",
       "      <td>True</td>\n",
       "      <td>False</td>\n",
       "      <td>True</td>\n",
       "      <td>True</td>\n",
       "      <td>False</td>\n",
       "      <td>False</td>\n",
       "      <td>False</td>\n",
       "      <td>False</td>\n",
       "      <td>2</td>\n",
       "      <td>72</td>\n",
       "      <td>0.000160</td>\n",
       "      <td>((Sink Below (1), Enlightened Strike (1), Crip...</td>\n",
       "    </tr>\n",
       "    <tr>\n",
       "      <th>117</th>\n",
       "      <td>False</td>\n",
       "      <td>False</td>\n",
       "      <td>True</td>\n",
       "      <td>True</td>\n",
       "      <td>True</td>\n",
       "      <td>True</td>\n",
       "      <td>False</td>\n",
       "      <td>False</td>\n",
       "      <td>False</td>\n",
       "      <td>False</td>\n",
       "      <td>1</td>\n",
       "      <td>36</td>\n",
       "      <td>0.000080</td>\n",
       "      <td>((Sink Below (1), Enlightened Strike (1), Comm...</td>\n",
       "    </tr>\n",
       "    <tr>\n",
       "      <th>118</th>\n",
       "      <td>False</td>\n",
       "      <td>False</td>\n",
       "      <td>False</td>\n",
       "      <td>False</td>\n",
       "      <td>True</td>\n",
       "      <td>True</td>\n",
       "      <td>False</td>\n",
       "      <td>False</td>\n",
       "      <td>False</td>\n",
       "      <td>False</td>\n",
       "      <td>1</td>\n",
       "      <td>1</td>\n",
       "      <td>0.000080</td>\n",
       "      <td>((Enlightened Strike (1), Enlightened Strike (...</td>\n",
       "    </tr>\n",
       "  </tbody>\n",
       "</table>\n",
       "<p>119 rows × 14 columns</p>\n",
       "</div>"
      ],
      "text/plain": [
       "    Chokey or Spinal Crip or Star Sink Below    CnC Pummel Estrike A Blue  \\\n",
       "0              False        False      False  False  False   False   True   \n",
       "2               True        False      False  False  False   False   True   \n",
       "1              False         True      False  False  False   False   True   \n",
       "3              False        False      False  False  False    True   True   \n",
       "4              False        False       True  False  False   False   True   \n",
       "..               ...          ...        ...    ...    ...     ...    ...   \n",
       "106             True        False      False   True   True    True  False   \n",
       "105             True        False       True   True   True   False  False   \n",
       "104            False         True       True  False   True    True  False   \n",
       "117            False        False       True   True   True    True  False   \n",
       "118            False        False      False  False   True    True  False   \n",
       "\n",
       "    Two Blues Three Blues Four Blues Hand Counts Combinations  Percentage  \\\n",
       "0        True        True       True        2327        82251    0.186130   \n",
       "2        True        True      False        1114        45695    0.089106   \n",
       "1        True        True      False        1114        54834    0.089106   \n",
       "3        True        True      False         557        18278    0.044553   \n",
       "4        True        True      False         557        27417    0.044553   \n",
       "..        ...         ...        ...         ...          ...         ...   \n",
       "106     False       False      False           2           60    0.000160   \n",
       "105     False       False      False           2           90    0.000160   \n",
       "104     False       False      False           2           72    0.000160   \n",
       "117     False       False      False           1           36    0.000080   \n",
       "118     False       False      False           1            1    0.000080   \n",
       "\n",
       "                                                 Hands  \n",
       "0    ((Macho Grande (3), Show Time! (3), Imposing V...  \n",
       "2    ((Spinal Crush (1), Rouse the Ancients (3), De...  \n",
       "1    ((Warmonger's Diplomacy (3), Buckling Blow (3)...  \n",
       "3    ((Thunder Quake (3), Enlightened Strike (1), R...  \n",
       "4    ((Macho Grande (3), Buckling Blow (3), Sink Be...  \n",
       "..                                                 ...  \n",
       "106  ((Spinal Crush (1), Enlightened Strike (1), Co...  \n",
       "105  ((Sink Below (1), Chokeslam (1), Command and C...  \n",
       "104  ((Sink Below (1), Enlightened Strike (1), Crip...  \n",
       "117  ((Sink Below (1), Enlightened Strike (1), Comm...  \n",
       "118  ((Enlightened Strike (1), Enlightened Strike (...  \n",
       "\n",
       "[119 rows x 14 columns]"
      ]
     },
     "execution_count": 10,
     "metadata": {},
     "output_type": "execute_result"
    }
   ],
   "source": [
    "conditions = {}\n",
    "\n",
    "four_cost_atk = bravo_deck_1.group_by(lambda card: (card.pitch == 1 and (card.name == \"Chokeslam\" or card.name == \"Spinal Crush\")))\n",
    "conditions[\"Chokey or Spinal\"] = generate_card_combinations(four_cost_atk, 1)\n",
    "\n",
    "seven_cost_atk = bravo_deck_1.group_by(lambda card: (card.name == \"Crippling Crush\" or card.name == \"Star Struck\"))\n",
    "conditions[\"Crip or Star\"] = generate_card_combinations(seven_cost_atk, 1)\n",
    "\n",
    "sink = bravo_deck_1.group_by(lambda card: card.name == \"Sink Below\")\n",
    "conditions[\"Sink Below\"] = generate_card_combinations(sink, 1)\n",
    "\n",
    "cnc_pummel = bravo_deck_1.group_by(lambda card: (card.name == \"Command and Conquer\"\n",
    "                                            or card.name == \"Pummel\"\n",
    "                                           )\n",
    "                             )\n",
    "\n",
    "cnc = bravo_deck_1.group_by(lambda card: card.name == \"Command and Conquer\")\n",
    "pummel = bravo_deck_1.group_by(lambda card: card.name == \"Pummel\")\n",
    "conditions[\"CnC\"] = generate_card_combinations(cnc, 1)\n",
    "conditions[\"Pummel\"] = generate_card_combinations(pummel, 1)\n",
    "\n",
    "estrike = bravo_deck_1.group_by(lambda card: card.name == \"Enlightened Strike\")\n",
    "conditions[\"Estrike\"] = generate_card_combinations(estrike, 1)\n",
    "\n",
    "blue_cards = bravo_deck_1.group_by(lambda card: card.pitch == 3)\n",
    "\n",
    "conditions[\"A Blue\"] = generate_card_combinations(blue_cards, 1)\n",
    "conditions[\"Two Blues\"] = generate_card_combinations(blue_cards, 2)\n",
    "conditions[\"Three Blues\"] = generate_card_combinations(blue_cards, 3)\n",
    "conditions[\"Four Blues\"] = generate_card_combinations(blue_cards, 4)\n",
    "\n",
    "analysis_df = bravo_1_handset.analyze_card_list_combinations(conditions)\n",
    "analysis_df.to_csv(\"MH minus estrike Bravo Hand Analysis Matrix.csv\")\n",
    "analysis_df"
   ]
  },
  {
   "cell_type": "code",
   "execution_count": 11,
   "metadata": {},
   "outputs": [],
   "source": [
    "import pandas as pd\n",
    "\n",
    "mh = pd.read_csv(\"MH Bravo Hand Analysis Matrix.csv\")\n",
    "mh_blue = pd.read_csv(\"MH minus estrike Bravo Hand Analysis Matrix.csv\")"
   ]
  },
  {
   "cell_type": "code",
   "execution_count": 19,
   "metadata": {},
   "outputs": [],
   "source": [
    "# Columns to compare\n",
    "comparison_columns = mh.columns.tolist()\n",
    "comparison_columns.remove('Unnamed: 0')\n",
    "comparison_columns.remove('Hand Counts')\n",
    "comparison_columns.remove('Combinations')\n",
    "comparison_columns.remove('Percentage')\n",
    "comparison_columns.remove('Hands')\n",
    "\n",
    "\n",
    "# Merge the DataFrames on the comparison columns\n",
    "merged_df = pd.merge(mh, mh_blue, on=comparison_columns, how=\"outer\", suffixes=('_38', '_39'))\n",
    "\n",
    "# Handle missing values (set them to 0 or other value if needed)\n",
    "merged_df.fillna({'Percentage_df1': 0, 'Percentage_df2': 0}, inplace=True)\n",
    "\n",
    "# Calculate the difference in 'Percentage'\n",
    "merged_df['Percentage Diff'] = merged_df['Percentage_38'] - merged_df['Percentage_39']\n",
    "\n",
    "# Display the result\n",
    "df_comparison = merged_df[comparison_columns + ['Hand Counts_38', 'Hand Counts_39', 'Combinations_38', 'Combinations_39', 'Percentage_38', 'Percentage_39', 'Percentage Diff']].sort_values(by=\"Percentage Diff\", ascending=False)\n",
    "df_comparison.to_csv(\"Bravo Difference.csv\")"
   ]
  }
 ],
 "metadata": {
  "kernelspec": {
   "display_name": ".venv",
   "language": "python",
   "name": "python3"
  },
  "language_info": {
   "codemirror_mode": {
    "name": "ipython",
    "version": 3
   },
   "file_extension": ".py",
   "mimetype": "text/x-python",
   "name": "python",
   "nbconvert_exporter": "python",
   "pygments_lexer": "ipython3",
   "version": "3.10.6"
  }
 },
 "nbformat": 4,
 "nbformat_minor": 2
}
